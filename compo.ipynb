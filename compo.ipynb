{
 "cells": [
  {
   "cell_type": "code",
   "execution_count": null,
   "metadata": {},
   "outputs": [
    {
     "name": "stderr",
     "output_type": "stream",
     "text": [
      "c:\\Users\\sadhi\\AppData\\Local\\Programs\\Python\\Python312\\Lib\\site-packages\\tqdm\\auto.py:21: TqdmWarning: IProgress not found. Please update jupyter and ipywidgets. See https://ipywidgets.readthedocs.io/en/stable/user_install.html\n",
      "  from .autonotebook import tqdm as notebook_tqdm\n"
     ]
    }
   ],
   "source": [
    "from dotenv import load_dotenv\n",
    "import requests \n",
    "import json \n",
    "from bs4 import BeautifulSoup\n",
    "import os\n",
    "import google.generativeai as genai\n",
    "from bs4 import BeautifulSoup"
   ]
  },
  {
   "cell_type": "code",
   "execution_count": null,
   "metadata": {},
   "outputs": [],
   "source": [
    "load_dotenv()\n",
    "api = os.environ['API']\n",
    "search_api = os.environ['API_SEARCH']\n",
    "search_engine = os.environ['SEARCH_ENGINE_ID']\n",
    "genai.configure(api_key=api)"
   ]
  },
  {
   "cell_type": "code",
   "execution_count": null,
   "metadata": {},
   "outputs": [],
   "source": [
    "model = genai.GenerativeModel(model_name='gemini-1.5-pro-latest')"
   ]
  },
  {
   "cell_type": "code",
   "execution_count": null,
   "metadata": {},
   "outputs": [],
   "source": [
    "def google_search(query):\n",
    "    \"\"\"\n",
    "    Function to perform Google Search using Custom Search JSON API.\n",
    "    \"\"\"\n",
    "    search_url = \"https://www.googleapis.com/customsearch/v1\"\n",
    "    params = {\n",
    "        'key': search_api,\n",
    "        'cx': search_engine,\n",
    "        'q': query,\n",
    "        'gl': \"IN\"\n",
    "    }\n",
    "    \n",
    "    response = requests.get(search_url, params=params)\n",
    "    if response.status_code == 200:\n",
    "        search_results = response.json()\n",
    "        links = [item['link'] for item in search_results.get('items', [])]\n",
    "        return links\n",
    "    else:\n",
    "        print(f\"Error: {response.status_code}\")\n",
    "        return []"
   ]
  },
  {
   "cell_type": "code",
   "execution_count": null,
   "metadata": {},
   "outputs": [
    {
     "name": "stdout",
     "output_type": "stream",
     "text": [
      "Fetched Links: ['https://pmc.ncbi.nlm.nih.gov/articles/PMC9110774/', 'https://www.mindsharepartners.org/blog/the-indian-community-is-grappling-with-our-mental-health-and-we-desperately-need-help', 'https://journals.lww.com/indianjpsychiatry/fulltext/2024/66002/mental_health_and_well_being_at_the_workplace.16.aspx', 'https://www2.deloitte.com/content/dam/Deloitte/global/Documents/Life-Sciences-Health-Care/gx-mental-health-2022-report-noexp.pdf', 'https://www.csis.org/blogs/new-perspectives-asia/private-sector-solutions-india-mental-health-workplace', 'https://www.lyrahealth.com/', 'https://www.ihs.gov/', 'https://www.doi.gov/pmb/hr/eap', 'https://www.sac-isc.gc.ca/eng/1581971225188/1581971250953', 'https://www.ncbi.nlm.nih.gov/pmc/articles/PMC6824928/']\n"
     ]
    }
   ],
   "source": [
    "sample_query = \"Indian corporate employees mental health and support\"\n",
    "article_links = google_search(sample_query)\n",
    "print(\"Fetched Links:\", article_links)"
   ]
  },
  {
   "cell_type": "code",
   "execution_count": null,
   "metadata": {},
   "outputs": [],
   "source": [
    "def fetch_article_content(url):\n",
    "    \"\"\"\n",
    "    Function to fetch and extract the main content from a given article URL.\n",
    "    Adds headers to the request to mimic a browser.\n",
    "    \"\"\"\n",
    "    headers = {\n",
    "        \"User-Agent\": \"Mozilla/5.0 (Windows NT 10.0; Win64; x64) AppleWebKit/537.36 (KHTML, like Gecko) Chrome/89.0.4389.82 Safari/537.36\",\n",
    "        \"Accept-Language\": \"en-US,en;q=0.9\",\n",
    "        \"Accept-Encoding\": \"gzip, deflate, br\",\n",
    "        \"Connection\": \"keep-alive\",\n",
    "    }\n",
    "    \n",
    "    try:\n",
    "        # Send a GET request to the article URL with headers\n",
    "        response = requests.get(url, headers=headers, timeout=10)\n",
    "        response.raise_for_status()  # Check for successful response\n",
    "        \n",
    "        # Parse HTML content with BeautifulSoup\n",
    "        soup = BeautifulSoup(response.text, 'html.parser')\n",
    "        \n",
    "        # Extract main text content from <p> tags\n",
    "        paragraphs = soup.find_all('p')\n",
    "        article_text = \"\\n\".join([para.get_text() for para in paragraphs if para.get_text()])\n",
    "        \n",
    "        return article_text.strip()  # Return clean, extracted text content\n",
    "    \n",
    "    except requests.exceptions.RequestException as e:\n",
    "        print(f\"Error fetching article content from {url}: {e}\")\n",
    "        return None"
   ]
  },
  {
   "cell_type": "code",
   "execution_count": null,
   "metadata": {},
   "outputs": [],
   "source": [
    "def summarize_text_with_gemini(text):\n",
    "    \"\"\"\n",
    "    Function to generate a detailed summary of the given text using the Gemini model.\n",
    "    Emphasizes the abstract, conclusion, and other key points like applications,\n",
    "    advantages, disadvantages, technical highlights, future directions, and results.\n",
    "    \"\"\"\n",
    "    # Define the pre-prompt structure for a detailed summary\n",
    "    preprompt = f\"\"\"\n",
    "    Given the following article text, provide a detailed summary that focuses on the following:\n",
    "    \n",
    "    1. **Main Focus**: What is the article primarily about? Describe the core subject and objective of the article.\n",
    "    2. **Key Insights**: Extract any significant insights, findings, or conclusions presented in the article.\n",
    "    3. **Statistics/Data**: Mainly focus on the STATISTICS NUMBERS PERCENTAGES ETC Identify any key data, statistics, or results presented.\n",
    "    4. **Conclusion**: Provide a summary of the conclusions or final remarks made by the author.\n",
    "    \n",
    "    Additionally, provide an overall summary of the article that encapsulates its main points and purpose.\n",
    "\n",
    "    Text: \n",
    "    Darft the problem with stas in 100 words'{text}'\n",
    "    \"\"\"\n",
    "    \n",
    "    # Generate content using the model\n",
    "    response = model.generate_content(preprompt)\n",
    "    story = response.text\n",
    "    return story "
   ]
  },
  {
   "cell_type": "code",
   "execution_count": null,
   "metadata": {},
   "outputs": [
    {
     "name": "stdout",
     "output_type": "stream",
     "text": [
      "Article URL: https://pmc.ncbi.nlm.nih.gov/articles/PMC9110774/\n",
      "Summary:\n",
      "**1. Main Focus:**\n",
      "\n",
      "The article is a scoping review of workplace mental health interventions in India. It aims to identify and summarize the types of mental health programs offered by Indian organizations, their key features, and gaps in existing interventions. The review also explores the prevalence and impact of mental health problems among Indian workers.\n",
      "\n",
      "**2. Key Insights:**\n",
      "\n",
      "* Mental health issues are prevalent among Indian workers, impacting their productivity and overall well-being.\n",
      "* Workplace mental health initiatives in India are growing, but often lack comprehensive needs assessments, impact evaluations, and supporting workplace policies.\n",
      "* Most interventions focus on curative approaches like counseling, rather than preventive and promotional activities.\n",
      "* There's a need for more research on risk factors, cost-effectiveness, and best practices for workplace mental health interventions in the Indian context.\n",
      "* Employee engagement in existing programs is a challenge, possibly due to stigma associated with mental health.\n",
      "\n",
      "**3. Statistics/Data:**\n",
      "\n",
      "* **150 million**: Estimated number of individuals in India suffering from mental disorders (NIMHANS, 2015-16).\n",
      "* **197 million**: Number of people experiencing mental illnesses in India (Global Burden of Disease Study, 2017).\n",
      "* **10.5%**: Proportion of the Indian population with mental disorders (NIMHANS, 2015-16).\n",
      "* **14.3%**: Proportion of the Indian population with mental illnesses (Global Burden of Disease Study, 2017).\n",
      "* **474 million**: India's working population (Census 2011).\n",
      "* **36%**: Percentage of employees in a survey reporting mental health issues (The7th Fold, 2020).\n",
      "* **63%**: Percentage of employees experiencing stress due to financial strain since the COVID-19 pandemic (PwC, 2021).\n",
      "* **$2.5 trillion**: Estimated global cost of mental health conditions in 2010.\n",
      "* **$6.0 trillion**: Projected global cost of mental health conditions by 2030.\n",
      "* **30**: Number of records included in the final review out of 1,311 initial records.\n",
      "\n",
      "**4. Conclusion:**\n",
      "\n",
      "The review highlights the growing awareness of workplace mental health in India, but emphasizes the need for more comprehensive, evidence-based interventions.  Organizations should prioritize needs assessments, impact evaluations, and policy development to create sustainable and effective mental health programs.  Further research is needed to understand the specific challenges and opportunities in the Indian context, and to develop culturally appropriate solutions.\n",
      "\n",
      "**Overall Summary:**\n",
      "\n",
      "This scoping review examines workplace mental health interventions in India. It finds that while mental health problems are prevalent among Indian workers and several organizations are implementing programs, these initiatives often lack structure, evaluation, and supporting policies.  The review calls for greater focus on preventative and promotional strategies, increased employee engagement, and further research to improve the effectiveness of workplace mental health programs in India. It concludes that investment in these programs is crucial for both employee well-being and organizational productivity.\n",
      "\n",
      "\n",
      "Article URL: https://www.csis.org/blogs/new-perspectives-asia/private-sector-solutions-india-mental-health-workplace\n",
      "Summary:\n",
      "The provided text does not contain an article body, only title information, date, publisher details, and copyright information. Therefore, a summary addressing the main focus, key insights, statistics/data, and conclusion is not possible.  There is no content to analyze.\n",
      "\n",
      "The text indicates the article was intended to be a blog post published on November 23, 2022, by the Center for Strategic and International Studies (CSIS). The title suggests the topic is related to a problem with statistics, possibly focusing on their misuse or misinterpretation.  However, without the actual article content, further analysis is impossible.\n",
      "\n",
      "\n",
      "Error fetching article content from https://www.ihs.gov/: HTTPSConnectionPool(host='www.ihs.gov', port=443): Max retries exceeded with url: / (Caused by ConnectTimeoutError(<urllib3.connection.HTTPSConnection object at 0x000001D627ED1C70>, 'Connection to www.ihs.gov timed out. (connect timeout=10)'))\n",
      "Article URL: https://www.doi.gov/pmb/hr/eap\n",
      "Summary:\n",
      "**1. Main Focus:** The article informs Department of Interior (DOI) employees about the Employee Assistance Program (EAP) offered through Acentra Health (formerly including EAP Consultants/Espyr).  It emphasizes the program's availability, confidentiality, and range of services to address various personal and work-related challenges.\n",
      "\n",
      "**2. Key Insights:** The EAP provides free, confidential support for a wide array of issues, from mental health concerns like stress and anxiety to work/life balance challenges and family difficulties. Immediate support is available through the TalkNow service without an appointment.\n",
      "\n",
      "**3. Statistics/Data:**  The phone number for TalkNow is 1-800-869-0276.  No other statistical data is presented.\n",
      "\n",
      "**4. Conclusion:** The article encourages DOI employees to utilize the EAP and TalkNow services for support and provides contact information and access points for further resources.\n",
      "\n",
      "**Overall Summary:**  This brief announcement serves as a reminder to DOI employees about the availability of free, confidential support services through the EAP. It highlights the recent acquisition of Espyr by Acentra Health and emphasizes immediate access to mental health support through the TalkNow service via phone.  Employees are directed to a SharePoint site for additional resources.\n",
      "\n",
      "\n",
      "Article URL: https://www.sac-isc.gc.ca/eng/1581971225188/1581971250953\n",
      "Summary:\n",
      "**Main Focus:** The article provides information about support services available to Survivors of Indian Residential Schools, their families, and those impacted by Missing and Murdered Indigenous Women and Girls.  It describes the types of support available and how to access them.\n",
      "\n",
      "**Key Insights:** The article highlights the intergenerational trauma caused by residential schools and acknowledges the need for culturally relevant and trauma-informed support. It emphasizes the importance of emotional, cultural, and mental health support for healing.\n",
      "\n",
      "**Statistics/Data:**  Crisis lines are provided: Residential School Crisis Line: 1-866-925-4419; MMIWG Crisis Line: 1-844-413-6649; Hope for Wellness Help Line: 1-855-242-3310.  The article mentions the supports are part of the 2006 Indian Residential School Settlement Agreement.\n",
      "\n",
      "**Conclusion:** The article encourages those affected by residential schools to seek support and provides contact information for accessing the Resolution Health Support Program and other relevant services. It also provides a resource for managing strong emotional reactions.\n",
      "\n",
      "**Overall Summary:** This article serves as a resource guide for individuals seeking support related to the trauma of Indian Residential Schools and MMIWG.  It outlines various types of support available, including cultural, emotional, and mental health services, and directs individuals to appropriate contact points based on their needs and eligibility.  The article acknowledges the lasting impact of these historical events and emphasizes the importance of seeking help.\n",
      "\n",
      "\n"
     ]
    },
    {
     "ename": "ResourceExhausted",
     "evalue": "429 Resource has been exhausted (e.g. check quota).",
     "output_type": "error",
     "traceback": [
      "\u001b[1;31m---------------------------------------------------------------------------\u001b[0m",
      "\u001b[1;31mResourceExhausted\u001b[0m                         Traceback (most recent call last)",
      "Cell \u001b[1;32mIn[28], line 4\u001b[0m\n\u001b[0;32m      2\u001b[0m extracted_text \u001b[38;5;241m=\u001b[39m fetch_article_content(i)\n\u001b[0;32m      3\u001b[0m \u001b[38;5;28;01mif\u001b[39;00m extracted_text:\n\u001b[1;32m----> 4\u001b[0m     summary \u001b[38;5;241m=\u001b[39m \u001b[43msummarize_text_with_gemini\u001b[49m\u001b[43m(\u001b[49m\u001b[43mextracted_text\u001b[49m\u001b[43m)\u001b[49m\n\u001b[0;32m      5\u001b[0m     \u001b[38;5;28mprint\u001b[39m(\u001b[38;5;124mf\u001b[39m\u001b[38;5;124m\"\u001b[39m\u001b[38;5;124mArticle URL: \u001b[39m\u001b[38;5;132;01m{\u001b[39;00mi\u001b[38;5;132;01m}\u001b[39;00m\u001b[38;5;124m\"\u001b[39m)\n\u001b[0;32m      6\u001b[0m     \u001b[38;5;28mprint\u001b[39m(\u001b[38;5;124mf\u001b[39m\u001b[38;5;124m\"\u001b[39m\u001b[38;5;124mSummary:\u001b[39m\u001b[38;5;130;01m\\n\u001b[39;00m\u001b[38;5;132;01m{\u001b[39;00msummary\u001b[38;5;132;01m}\u001b[39;00m\u001b[38;5;130;01m\\n\u001b[39;00m\u001b[38;5;124m\"\u001b[39m)\n",
      "Cell \u001b[1;32mIn[27], line 23\u001b[0m, in \u001b[0;36msummarize_text_with_gemini\u001b[1;34m(text)\u001b[0m\n\u001b[0;32m      8\u001b[0m preprompt \u001b[38;5;241m=\u001b[39m \u001b[38;5;124mf\u001b[39m\u001b[38;5;124m\"\"\"\u001b[39m\n\u001b[0;32m      9\u001b[0m \u001b[38;5;124mGiven the following article text, provide a detailed summary that focuses on the following:\u001b[39m\n\u001b[0;32m     10\u001b[0m \u001b[38;5;124m\u001b[39m\n\u001b[1;32m   (...)\u001b[0m\n\u001b[0;32m     19\u001b[0m \u001b[38;5;124mDarft the problem with stas in 100 words\u001b[39m\u001b[38;5;124m'\u001b[39m\u001b[38;5;132;01m{\u001b[39;00mtext\u001b[38;5;132;01m}\u001b[39;00m\u001b[38;5;124m'\u001b[39m\n\u001b[0;32m     20\u001b[0m \u001b[38;5;124m\u001b[39m\u001b[38;5;124m\"\"\"\u001b[39m\n\u001b[0;32m     22\u001b[0m \u001b[38;5;66;03m# Generate content using the model\u001b[39;00m\n\u001b[1;32m---> 23\u001b[0m response \u001b[38;5;241m=\u001b[39m \u001b[43mmodel\u001b[49m\u001b[38;5;241;43m.\u001b[39;49m\u001b[43mgenerate_content\u001b[49m\u001b[43m(\u001b[49m\u001b[43mpreprompt\u001b[49m\u001b[43m)\u001b[49m\n\u001b[0;32m     24\u001b[0m story \u001b[38;5;241m=\u001b[39m response\u001b[38;5;241m.\u001b[39mtext\n\u001b[0;32m     25\u001b[0m \u001b[38;5;28;01mreturn\u001b[39;00m story\n",
      "File \u001b[1;32mc:\\Users\\sadhi\\AppData\\Local\\Programs\\Python\\Python312\\Lib\\site-packages\\google\\generativeai\\generative_models.py:331\u001b[0m, in \u001b[0;36mGenerativeModel.generate_content\u001b[1;34m(self, contents, generation_config, safety_settings, stream, tools, tool_config, request_options)\u001b[0m\n\u001b[0;32m    329\u001b[0m         \u001b[38;5;28;01mreturn\u001b[39;00m generation_types\u001b[38;5;241m.\u001b[39mGenerateContentResponse\u001b[38;5;241m.\u001b[39mfrom_iterator(iterator)\n\u001b[0;32m    330\u001b[0m     \u001b[38;5;28;01melse\u001b[39;00m:\n\u001b[1;32m--> 331\u001b[0m         response \u001b[38;5;241m=\u001b[39m \u001b[38;5;28;43mself\u001b[39;49m\u001b[38;5;241;43m.\u001b[39;49m\u001b[43m_client\u001b[49m\u001b[38;5;241;43m.\u001b[39;49m\u001b[43mgenerate_content\u001b[49m\u001b[43m(\u001b[49m\n\u001b[0;32m    332\u001b[0m \u001b[43m            \u001b[49m\u001b[43mrequest\u001b[49m\u001b[43m,\u001b[49m\n\u001b[0;32m    333\u001b[0m \u001b[43m            \u001b[49m\u001b[38;5;241;43m*\u001b[39;49m\u001b[38;5;241;43m*\u001b[39;49m\u001b[43mrequest_options\u001b[49m\u001b[43m,\u001b[49m\n\u001b[0;32m    334\u001b[0m \u001b[43m        \u001b[49m\u001b[43m)\u001b[49m\n\u001b[0;32m    335\u001b[0m         \u001b[38;5;28;01mreturn\u001b[39;00m generation_types\u001b[38;5;241m.\u001b[39mGenerateContentResponse\u001b[38;5;241m.\u001b[39mfrom_response(response)\n\u001b[0;32m    336\u001b[0m \u001b[38;5;28;01mexcept\u001b[39;00m google\u001b[38;5;241m.\u001b[39mapi_core\u001b[38;5;241m.\u001b[39mexceptions\u001b[38;5;241m.\u001b[39mInvalidArgument \u001b[38;5;28;01mas\u001b[39;00m e:\n",
      "File \u001b[1;32mc:\\Users\\sadhi\\AppData\\Local\\Programs\\Python\\Python312\\Lib\\site-packages\\google\\ai\\generativelanguage_v1beta\\services\\generative_service\\client.py:830\u001b[0m, in \u001b[0;36mGenerativeServiceClient.generate_content\u001b[1;34m(self, request, model, contents, retry, timeout, metadata)\u001b[0m\n\u001b[0;32m    827\u001b[0m \u001b[38;5;28mself\u001b[39m\u001b[38;5;241m.\u001b[39m_validate_universe_domain()\n\u001b[0;32m    829\u001b[0m \u001b[38;5;66;03m# Send the request.\u001b[39;00m\n\u001b[1;32m--> 830\u001b[0m response \u001b[38;5;241m=\u001b[39m \u001b[43mrpc\u001b[49m\u001b[43m(\u001b[49m\n\u001b[0;32m    831\u001b[0m \u001b[43m    \u001b[49m\u001b[43mrequest\u001b[49m\u001b[43m,\u001b[49m\n\u001b[0;32m    832\u001b[0m \u001b[43m    \u001b[49m\u001b[43mretry\u001b[49m\u001b[38;5;241;43m=\u001b[39;49m\u001b[43mretry\u001b[49m\u001b[43m,\u001b[49m\n\u001b[0;32m    833\u001b[0m \u001b[43m    \u001b[49m\u001b[43mtimeout\u001b[49m\u001b[38;5;241;43m=\u001b[39;49m\u001b[43mtimeout\u001b[49m\u001b[43m,\u001b[49m\n\u001b[0;32m    834\u001b[0m \u001b[43m    \u001b[49m\u001b[43mmetadata\u001b[49m\u001b[38;5;241;43m=\u001b[39;49m\u001b[43mmetadata\u001b[49m\u001b[43m,\u001b[49m\n\u001b[0;32m    835\u001b[0m \u001b[43m\u001b[49m\u001b[43m)\u001b[49m\n\u001b[0;32m    837\u001b[0m \u001b[38;5;66;03m# Done; return the response.\u001b[39;00m\n\u001b[0;32m    838\u001b[0m \u001b[38;5;28;01mreturn\u001b[39;00m response\n",
      "File \u001b[1;32mc:\\Users\\sadhi\\AppData\\Local\\Programs\\Python\\Python312\\Lib\\site-packages\\google\\api_core\\gapic_v1\\method.py:131\u001b[0m, in \u001b[0;36m_GapicCallable.__call__\u001b[1;34m(self, timeout, retry, compression, *args, **kwargs)\u001b[0m\n\u001b[0;32m    128\u001b[0m \u001b[38;5;28;01mif\u001b[39;00m \u001b[38;5;28mself\u001b[39m\u001b[38;5;241m.\u001b[39m_compression \u001b[38;5;129;01mis\u001b[39;00m \u001b[38;5;129;01mnot\u001b[39;00m \u001b[38;5;28;01mNone\u001b[39;00m:\n\u001b[0;32m    129\u001b[0m     kwargs[\u001b[38;5;124m\"\u001b[39m\u001b[38;5;124mcompression\u001b[39m\u001b[38;5;124m\"\u001b[39m] \u001b[38;5;241m=\u001b[39m compression\n\u001b[1;32m--> 131\u001b[0m \u001b[38;5;28;01mreturn\u001b[39;00m \u001b[43mwrapped_func\u001b[49m\u001b[43m(\u001b[49m\u001b[38;5;241;43m*\u001b[39;49m\u001b[43margs\u001b[49m\u001b[43m,\u001b[49m\u001b[43m \u001b[49m\u001b[38;5;241;43m*\u001b[39;49m\u001b[38;5;241;43m*\u001b[39;49m\u001b[43mkwargs\u001b[49m\u001b[43m)\u001b[49m\n",
      "File \u001b[1;32mc:\\Users\\sadhi\\AppData\\Local\\Programs\\Python\\Python312\\Lib\\site-packages\\google\\api_core\\retry\\retry_unary.py:293\u001b[0m, in \u001b[0;36mRetry.__call__.<locals>.retry_wrapped_func\u001b[1;34m(*args, **kwargs)\u001b[0m\n\u001b[0;32m    289\u001b[0m target \u001b[38;5;241m=\u001b[39m functools\u001b[38;5;241m.\u001b[39mpartial(func, \u001b[38;5;241m*\u001b[39margs, \u001b[38;5;241m*\u001b[39m\u001b[38;5;241m*\u001b[39mkwargs)\n\u001b[0;32m    290\u001b[0m sleep_generator \u001b[38;5;241m=\u001b[39m exponential_sleep_generator(\n\u001b[0;32m    291\u001b[0m     \u001b[38;5;28mself\u001b[39m\u001b[38;5;241m.\u001b[39m_initial, \u001b[38;5;28mself\u001b[39m\u001b[38;5;241m.\u001b[39m_maximum, multiplier\u001b[38;5;241m=\u001b[39m\u001b[38;5;28mself\u001b[39m\u001b[38;5;241m.\u001b[39m_multiplier\n\u001b[0;32m    292\u001b[0m )\n\u001b[1;32m--> 293\u001b[0m \u001b[38;5;28;01mreturn\u001b[39;00m \u001b[43mretry_target\u001b[49m\u001b[43m(\u001b[49m\n\u001b[0;32m    294\u001b[0m \u001b[43m    \u001b[49m\u001b[43mtarget\u001b[49m\u001b[43m,\u001b[49m\n\u001b[0;32m    295\u001b[0m \u001b[43m    \u001b[49m\u001b[38;5;28;43mself\u001b[39;49m\u001b[38;5;241;43m.\u001b[39;49m\u001b[43m_predicate\u001b[49m\u001b[43m,\u001b[49m\n\u001b[0;32m    296\u001b[0m \u001b[43m    \u001b[49m\u001b[43msleep_generator\u001b[49m\u001b[43m,\u001b[49m\n\u001b[0;32m    297\u001b[0m \u001b[43m    \u001b[49m\u001b[43mtimeout\u001b[49m\u001b[38;5;241;43m=\u001b[39;49m\u001b[38;5;28;43mself\u001b[39;49m\u001b[38;5;241;43m.\u001b[39;49m\u001b[43m_timeout\u001b[49m\u001b[43m,\u001b[49m\n\u001b[0;32m    298\u001b[0m \u001b[43m    \u001b[49m\u001b[43mon_error\u001b[49m\u001b[38;5;241;43m=\u001b[39;49m\u001b[43mon_error\u001b[49m\u001b[43m,\u001b[49m\n\u001b[0;32m    299\u001b[0m \u001b[43m\u001b[49m\u001b[43m)\u001b[49m\n",
      "File \u001b[1;32mc:\\Users\\sadhi\\AppData\\Local\\Programs\\Python\\Python312\\Lib\\site-packages\\google\\api_core\\retry\\retry_unary.py:153\u001b[0m, in \u001b[0;36mretry_target\u001b[1;34m(target, predicate, sleep_generator, timeout, on_error, exception_factory, **kwargs)\u001b[0m\n\u001b[0;32m    149\u001b[0m \u001b[38;5;66;03m# pylint: disable=broad-except\u001b[39;00m\n\u001b[0;32m    150\u001b[0m \u001b[38;5;66;03m# This function explicitly must deal with broad exceptions.\u001b[39;00m\n\u001b[0;32m    151\u001b[0m \u001b[38;5;28;01mexcept\u001b[39;00m \u001b[38;5;167;01mException\u001b[39;00m \u001b[38;5;28;01mas\u001b[39;00m exc:\n\u001b[0;32m    152\u001b[0m     \u001b[38;5;66;03m# defer to shared logic for handling errors\u001b[39;00m\n\u001b[1;32m--> 153\u001b[0m     \u001b[43m_retry_error_helper\u001b[49m\u001b[43m(\u001b[49m\n\u001b[0;32m    154\u001b[0m \u001b[43m        \u001b[49m\u001b[43mexc\u001b[49m\u001b[43m,\u001b[49m\n\u001b[0;32m    155\u001b[0m \u001b[43m        \u001b[49m\u001b[43mdeadline\u001b[49m\u001b[43m,\u001b[49m\n\u001b[0;32m    156\u001b[0m \u001b[43m        \u001b[49m\u001b[43msleep\u001b[49m\u001b[43m,\u001b[49m\n\u001b[0;32m    157\u001b[0m \u001b[43m        \u001b[49m\u001b[43merror_list\u001b[49m\u001b[43m,\u001b[49m\n\u001b[0;32m    158\u001b[0m \u001b[43m        \u001b[49m\u001b[43mpredicate\u001b[49m\u001b[43m,\u001b[49m\n\u001b[0;32m    159\u001b[0m \u001b[43m        \u001b[49m\u001b[43mon_error\u001b[49m\u001b[43m,\u001b[49m\n\u001b[0;32m    160\u001b[0m \u001b[43m        \u001b[49m\u001b[43mexception_factory\u001b[49m\u001b[43m,\u001b[49m\n\u001b[0;32m    161\u001b[0m \u001b[43m        \u001b[49m\u001b[43mtimeout\u001b[49m\u001b[43m,\u001b[49m\n\u001b[0;32m    162\u001b[0m \u001b[43m    \u001b[49m\u001b[43m)\u001b[49m\n\u001b[0;32m    163\u001b[0m     \u001b[38;5;66;03m# if exception not raised, sleep before next attempt\u001b[39;00m\n\u001b[0;32m    164\u001b[0m     time\u001b[38;5;241m.\u001b[39msleep(sleep)\n",
      "File \u001b[1;32mc:\\Users\\sadhi\\AppData\\Local\\Programs\\Python\\Python312\\Lib\\site-packages\\google\\api_core\\retry\\retry_base.py:212\u001b[0m, in \u001b[0;36m_retry_error_helper\u001b[1;34m(exc, deadline, next_sleep, error_list, predicate_fn, on_error_fn, exc_factory_fn, original_timeout)\u001b[0m\n\u001b[0;32m    206\u001b[0m \u001b[38;5;28;01mif\u001b[39;00m \u001b[38;5;129;01mnot\u001b[39;00m predicate_fn(exc):\n\u001b[0;32m    207\u001b[0m     final_exc, source_exc \u001b[38;5;241m=\u001b[39m exc_factory_fn(\n\u001b[0;32m    208\u001b[0m         error_list,\n\u001b[0;32m    209\u001b[0m         RetryFailureReason\u001b[38;5;241m.\u001b[39mNON_RETRYABLE_ERROR,\n\u001b[0;32m    210\u001b[0m         original_timeout,\n\u001b[0;32m    211\u001b[0m     )\n\u001b[1;32m--> 212\u001b[0m     \u001b[38;5;28;01mraise\u001b[39;00m final_exc \u001b[38;5;28;01mfrom\u001b[39;00m \u001b[38;5;21;01msource_exc\u001b[39;00m\n\u001b[0;32m    213\u001b[0m \u001b[38;5;28;01mif\u001b[39;00m on_error_fn \u001b[38;5;129;01mis\u001b[39;00m \u001b[38;5;129;01mnot\u001b[39;00m \u001b[38;5;28;01mNone\u001b[39;00m:\n\u001b[0;32m    214\u001b[0m     on_error_fn(exc)\n",
      "File \u001b[1;32mc:\\Users\\sadhi\\AppData\\Local\\Programs\\Python\\Python312\\Lib\\site-packages\\google\\api_core\\retry\\retry_unary.py:144\u001b[0m, in \u001b[0;36mretry_target\u001b[1;34m(target, predicate, sleep_generator, timeout, on_error, exception_factory, **kwargs)\u001b[0m\n\u001b[0;32m    142\u001b[0m \u001b[38;5;28;01mfor\u001b[39;00m sleep \u001b[38;5;129;01min\u001b[39;00m sleep_generator:\n\u001b[0;32m    143\u001b[0m     \u001b[38;5;28;01mtry\u001b[39;00m:\n\u001b[1;32m--> 144\u001b[0m         result \u001b[38;5;241m=\u001b[39m \u001b[43mtarget\u001b[49m\u001b[43m(\u001b[49m\u001b[43m)\u001b[49m\n\u001b[0;32m    145\u001b[0m         \u001b[38;5;28;01mif\u001b[39;00m inspect\u001b[38;5;241m.\u001b[39misawaitable(result):\n\u001b[0;32m    146\u001b[0m             warnings\u001b[38;5;241m.\u001b[39mwarn(_ASYNC_RETRY_WARNING)\n",
      "File \u001b[1;32mc:\\Users\\sadhi\\AppData\\Local\\Programs\\Python\\Python312\\Lib\\site-packages\\google\\api_core\\timeout.py:120\u001b[0m, in \u001b[0;36mTimeToDeadlineTimeout.__call__.<locals>.func_with_timeout\u001b[1;34m(*args, **kwargs)\u001b[0m\n\u001b[0;32m    117\u001b[0m     \u001b[38;5;66;03m# Avoid setting negative timeout\u001b[39;00m\n\u001b[0;32m    118\u001b[0m     kwargs[\u001b[38;5;124m\"\u001b[39m\u001b[38;5;124mtimeout\u001b[39m\u001b[38;5;124m\"\u001b[39m] \u001b[38;5;241m=\u001b[39m \u001b[38;5;28mmax\u001b[39m(\u001b[38;5;241m0\u001b[39m, \u001b[38;5;28mself\u001b[39m\u001b[38;5;241m.\u001b[39m_timeout \u001b[38;5;241m-\u001b[39m time_since_first_attempt)\n\u001b[1;32m--> 120\u001b[0m \u001b[38;5;28;01mreturn\u001b[39;00m \u001b[43mfunc\u001b[49m\u001b[43m(\u001b[49m\u001b[38;5;241;43m*\u001b[39;49m\u001b[43margs\u001b[49m\u001b[43m,\u001b[49m\u001b[43m \u001b[49m\u001b[38;5;241;43m*\u001b[39;49m\u001b[38;5;241;43m*\u001b[39;49m\u001b[43mkwargs\u001b[49m\u001b[43m)\u001b[49m\n",
      "File \u001b[1;32mc:\\Users\\sadhi\\AppData\\Local\\Programs\\Python\\Python312\\Lib\\site-packages\\google\\api_core\\grpc_helpers.py:78\u001b[0m, in \u001b[0;36m_wrap_unary_errors.<locals>.error_remapped_callable\u001b[1;34m(*args, **kwargs)\u001b[0m\n\u001b[0;32m     76\u001b[0m     \u001b[38;5;28;01mreturn\u001b[39;00m callable_(\u001b[38;5;241m*\u001b[39margs, \u001b[38;5;241m*\u001b[39m\u001b[38;5;241m*\u001b[39mkwargs)\n\u001b[0;32m     77\u001b[0m \u001b[38;5;28;01mexcept\u001b[39;00m grpc\u001b[38;5;241m.\u001b[39mRpcError \u001b[38;5;28;01mas\u001b[39;00m exc:\n\u001b[1;32m---> 78\u001b[0m     \u001b[38;5;28;01mraise\u001b[39;00m exceptions\u001b[38;5;241m.\u001b[39mfrom_grpc_error(exc) \u001b[38;5;28;01mfrom\u001b[39;00m \u001b[38;5;21;01mexc\u001b[39;00m\n",
      "\u001b[1;31mResourceExhausted\u001b[0m: 429 Resource has been exhausted (e.g. check quota)."
     ]
    }
   ],
   "source": [
    "for i in article_links:\n",
    "    extracted_text = fetch_article_content(i)\n",
    "    if extracted_text:\n",
    "        summary = summarize_text_with_gemini(extracted_text)\n",
    "        print(f\"Article URL: {i}\")\n",
    "        print(f\"Summary:\\n{summary}\\n\")"
   ]
  }
 ],
 "metadata": {
  "kernelspec": {
   "display_name": "Python 3",
   "language": "python",
   "name": "python3"
  },
  "language_info": {
   "codemirror_mode": {
    "name": "ipython",
    "version": 3
   },
   "file_extension": ".py",
   "mimetype": "text/x-python",
   "name": "python",
   "nbconvert_exporter": "python",
   "pygments_lexer": "ipython3",
   "version": "3.12.6"
  }
 },
 "nbformat": 4,
 "nbformat_minor": 2
}
